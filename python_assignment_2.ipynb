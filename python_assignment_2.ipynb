{
 "cells": [
  {
   "cell_type": "code",
   "execution_count": 3,
   "id": "2d40ac05-0edc-497e-b59f-0c82eaadf8d0",
   "metadata": {},
   "outputs": [
    {
     "name": "stdout",
     "output_type": "stream",
     "text": [
      "the square of 3 is 9 \n"
     ]
    }
   ],
   "source": [
    "#Ask the user to enter a number. Print out the square of the number, \n",
    "#Sample output is shown below.\n",
    "#Enter a number: 5 The square of 5 is 25.\n",
    "import random\n",
    "x=random.randint(1,10)\n",
    "a=x*x\n",
    "print(f'the square of {x} is {a} ')\n",
    "\n"
   ]
  },
  {
   "cell_type": "code",
   "execution_count": 5,
   "id": "c51f3af4-1ca9-4008-97a6-d02ef7b0cdf6",
   "metadata": {},
   "outputs": [
    {
     "name": "stdout",
     "output_type": "stream",
     "text": [
      "7 14 21 28 35\n"
     ]
    }
   ],
   "source": [
    "#Ask the user to enter a number x. print out x, 2x, 3x, 4x, and 5x, each separated by three dashes, like below.\n",
    "\n",
    "#Enter a number: 7 7---14---21---28---35\n",
    "import random\n",
    "a= random.randint(1,100)\n",
    "print(a,2*a,3*a,4*a,5*a)"
   ]
  },
  {
   "cell_type": "code",
   "execution_count": 9,
   "id": "e71a82b9-7d5e-41c4-b090-8f27ce26eeb8",
   "metadata": {},
   "outputs": [
    {
     "name": "stdout",
     "output_type": "stream",
     "text": [
      "The weight of 74 kg's in pounds is 162.8\n"
     ]
    }
   ],
   "source": [
    "#Write a program that asks the user for a weight in kilograms and converts it to pounds. There are 2.2 pounds in a kilogram.\n",
    "import random\n",
    "weight_in_kilograms=random.randint(1,100)\n",
    "weight_in_pounds=weight_in_kilograms*2.2\n",
    "print(f'The weight of {weight_in_kilograms} kg\\'s in pounds is {weight_in_pounds}')"
   ]
  },
  {
   "cell_type": "code",
   "execution_count": 11,
   "id": "4d89d3ab-4e07-403c-b346-f10641885aab",
   "metadata": {},
   "outputs": [
    {
     "name": "stdout",
     "output_type": "stream",
     "text": [
      "total of 5, 3 and 12 is 20 and the average of 5, 3 and 12 is 6.666666666666667\n"
     ]
    }
   ],
   "source": [
    "# Write a program that asks the user to enter three numbers (use three separate input statements).Create variables called total and average that hold the sum and average of the three numbers and print out the values of total and average\n",
    "import random\n",
    "a=random.randint(1,10)\n",
    "b=random.randint(2,20)\n",
    "c=random.randint(3,30)\n",
    "total=(a+b+c)\n",
    "average=(a+b+c)/3\n",
    "print(f\"total of {a}, {b} and {c} is {total} and the average of {a}, {b} and {c} is {average}\")"
   ]
  },
  {
   "cell_type": "code",
   "execution_count": 13,
   "id": "18e6ad45-688b-4b9f-9adb-b9332ad1ddaa",
   "metadata": {},
   "outputs": [
    {
     "name": "stdout",
     "output_type": "stream",
     "text": [
      "The tip amount is 32.900000000000006 and the total bill is 267.9\n"
     ]
    }
   ],
   "source": [
    "# A lot of cell phones have tip calculators. Write one. Ask the user for the price of the meal and the percent tip they want to leave. Then print both the tip amount and the total bill with the tip included.\n",
    "import random\n",
    "price_of_the_meal=random.randint(200,1000)\n",
    "percentage_of_tip=random.randint(10,20)\n",
    "tip_amount=(percentage_of_tip/100)*price_of_the_meal\n",
    "total_bill=price_of_the_meal+tip_amount\n",
    "print(f\"The tip amount is {tip_amount} and the total bill is {total_bill}\")\n"
   ]
  },
  {
   "cell_type": "code",
   "execution_count": 21,
   "id": "0f7315d9-517c-4121-92d5-a005376274ca",
   "metadata": {},
   "outputs": [
    {
     "name": "stdout",
     "output_type": "stream",
     "text": [
      "The value of num1 is 5 and num2 is 4 is and the required calculations are of these are 9,1,20,1.25\n"
     ]
    }
   ],
   "source": [
    "#  wap ask the user enter the 2 numbers find the subtraction,addition, multiplication and division\n",
    "import random\n",
    "num1=random.randint(1,10)\n",
    "num2=random.randint(1,5)\n",
    "print(f'The value of num1 is {num1} and num2 is {num2} is and the required calculations are of these are {num1+num2},{num1-num2},{num1*num2},{num1/num2}')\n"
   ]
  },
  {
   "cell_type": "code",
   "execution_count": 23,
   "id": "6cc64db6-b6e8-4999-8d38-9d1918258eab",
   "metadata": {},
   "outputs": [
    {
     "name": "stdin",
     "output_type": "stream",
     "text": [
      "Enter the value of pi 3.14\n"
     ]
    },
    {
     "name": "stdout",
     "output_type": "stream",
     "text": [
      "The area of circle with radius 7 is 153.86\n"
     ]
    }
   ],
   "source": [
    "# wap ask the user enter radius values and pi value  find the area of the circle\n",
    "import random\n",
    "r=random.randint(1,25)\n",
    "p=eval(input(\"Enter the value of pi\"))\n",
    "area=p*r*r\n",
    "print(f\"The area of circle with radius {r} is {area}\") \n"
   ]
  },
  {
   "cell_type": "code",
   "execution_count": 27,
   "id": "97dc0328-07ba-4836-8cae-659b4ccec419",
   "metadata": {},
   "outputs": [
    {
     "name": "stdout",
     "output_type": "stream",
     "text": [
      "The bill in dollars is 20 and the total bill is 1680\n"
     ]
    }
   ],
   "source": [
    "# 8.  wap ask the user bill amount in dollars,   ask the user enter how much indian rupees for one dollar print the bill amount in rupees\n",
    "import random\n",
    "bill_in_dollars=random.randint(10,20)\n",
    "one_dollar_value=random.randint(80,85)\n",
    "total_bill=bill_in_dollars*one_dollar_value\n",
    "print(f\"The bill in dollars is {bill_in_dollars} and the total bill is {total_bill}\")"
   ]
  },
  {
   "cell_type": "code",
   "execution_count": 28,
   "id": "92cc1733-4d3b-4c70-9e91-e59465c766aa",
   "metadata": {},
   "outputs": [
    {
     "name": "stdout",
     "output_type": "stream",
     "text": [
      "The area of triangle with base 6 and height 8 is 24.0\n"
     ]
    }
   ],
   "source": [
    "# wap ask the user enter base height calculate area of the triangle\n",
    "import random\n",
    "b=random.randint(4,7)\n",
    "h=random.randint(5,8)\n",
    "a=0.5*b*h\n",
    "print(f'The area of triangle with base {b} and height {h} is {a}')"
   ]
  },
  {
   "cell_type": "code",
   "execution_count": 38,
   "id": "6b619779-85d4-410a-bcfb-37ad2d2d56f3",
   "metadata": {},
   "outputs": [
    {
     "name": "stdout",
     "output_type": "stream",
     "text": [
      "The area of rectangle with length 3 and breadth 1 is 3\n"
     ]
    }
   ],
   "source": [
    "# 10.  wap ask the user enter length and breadth calculate area of the rectangle\n",
    "import random\n",
    "l=random.randint (2,8)\n",
    "b=random.randint (1,10)\n",
    "a=l*b\n",
    "print(f\"The area of rectangle with length {l} and breadth {b} is {a}\")"
   ]
  },
  {
   "cell_type": "code",
   "execution_count": 46,
   "id": "d417cfe2-3b68-4c42-bbac-1455a1c83192",
   "metadata": {},
   "outputs": [
    {
     "name": "stdout",
     "output_type": "stream",
     "text": [
      "Father: Hey Baby!\n",
      "Daughter: Hello Dady\n",
      "Father: I heard your exams are over, what about result\n",
      "Daughter: Yes dad! Results are out.\n",
      "Father: what is the percentage?\n",
      "Daughter: I will give my subject wise marks , you tell me the percentage\n",
      "Father : Okay!\n",
      "First language 86\n",
      "second language 76\n",
      "third language 95\n",
      "Science 95\n",
      "Maths 98 \n",
      "Daughter: Dad Now tell me how much percentage I got\n",
      "Father: Tell me the max marks of each subject\n"
     ]
    },
    {
     "name": "stdin",
     "output_type": "stream",
     "text": [
      "Enter the max marks 100\n"
     ]
    },
    {
     "name": "stdout",
     "output_type": "stream",
     "text": [
      "The total percentage is 90\n"
     ]
    }
   ],
   "source": [
    "# 11. Let’s create a story between Father and daughter , You need to create a story by using print and input keywords\n",
    "# You need to develop a python code same like below steps\n",
    "#The goal of this code is to understand python is step by step process\n",
    "#Step-1: input(“ Father: Hey Baby!\")\n",
    "#Step-2: input(“Daughter: Hello Dady”)\n",
    "#Step-3: input(“Father: I heard your exams are over, what about result”)\n",
    "#Step-4: input(“Daughter: Yes dad! Results are out.”)\n",
    "#Step-5: input(“Father: what is the percentage?”)\n",
    "#Step-6: input(“Daughter: I will give my subject wise marks , you tell me the percentage”)\n",
    "#Step-7: input(“Father : Okay!)\n",
    "#Step-8: sub1=eval(input(“First Language:”))\n",
    "#Step-9: sub2=eval(input(“Second language:”))\n",
    "#Step-10: sub3=eval(input(“Third language:”))\n",
    "#Step-11: sub4=eval(input(“Science:”))\n",
    "#Step-12: sub5=eval(input(“Maths:”))\n",
    "#Step-13: Daughter: Dad Now tell me how much percentage I got\n",
    "#Step-14: Father: Tell me the max marks of each subject\n",
    "#Step-15: max_marks=eval(input(“Daughter:”)) give=100\n",
    "#Step-16: calculate the percentage of marks and print it\n",
    "import time\n",
    "import random\n",
    "time.sleep(2)\n",
    "print('Father: Hey Baby!')\n",
    "time.sleep(3)\n",
    "print('Daughter: Hello Dady')\n",
    "time.sleep(4)\n",
    "print('Father: I heard your exams are over, what about result')\n",
    "time.sleep(4)\n",
    "print('Daughter: Yes dad! Results are out.')\n",
    "time.sleep(4)\n",
    "print('Father: what is the percentage?')\n",
    "time.sleep(5)\n",
    "print('Daughter: I will give my subject wise marks , you tell me the percentage')\n",
    "time.sleep(4)\n",
    "print('Father : Okay!')\n",
    "sub1=random.randint(80,90)\n",
    "print(f\"First language {sub1}\")\n",
    "sub2=random.randint(70,100)\n",
    "print(f\"second language {sub2}\")\n",
    "sub3=random.randint(90,100)\n",
    "print(f\"third language {sub3}\")\n",
    "sub4=random.randint(90,100)\n",
    "print(f\"Science {sub4}\")\n",
    "sub5=random.randint(95,100)\n",
    "print(f\"Maths {sub5} \")\n",
    "time.sleep(5)\n",
    "print('Daughter: Dad Now tell me how much percentage I got')\n",
    "time.sleep(2)\n",
    "print('Father: Tell me the max marks of each subject')\n",
    "max_marks=eval(input('Enter the max marks'))\n",
    "total_marks=sub1+sub2+sub3+sub4+sub5\n",
    "\n",
    "total_percentage=round((total_marks/500)*100)\n",
    "print(f\"The total percentage is {total_percentage}\")\n"
   ]
  },
  {
   "cell_type": "code",
   "execution_count": null,
   "id": "ab4c2a8f-19a3-4290-9450-add39c24cdaa",
   "metadata": {},
   "outputs": [],
   "source": []
  }
 ],
 "metadata": {
  "kernelspec": {
   "display_name": "Python 3 (ipykernel)",
   "language": "python",
   "name": "python3"
  },
  "language_info": {
   "codemirror_mode": {
    "name": "ipython",
    "version": 3
   },
   "file_extension": ".py",
   "mimetype": "text/x-python",
   "name": "python",
   "nbconvert_exporter": "python",
   "pygments_lexer": "ipython3",
   "version": "3.11.7"
  }
 },
 "nbformat": 4,
 "nbformat_minor": 5
}

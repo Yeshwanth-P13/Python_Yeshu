{
 "cells": [
  {
   "cell_type": "code",
   "execution_count": 1,
   "id": "ed8a8bcd-9bba-4681-99c4-9385aa27c6ae",
   "metadata": {},
   "outputs": [
    {
     "name": "stdin",
     "output_type": "stream",
     "text": [
      "Enter a number 10\n"
     ]
    },
    {
     "name": "stdout",
     "output_type": "stream",
     "text": [
      "The square of 10 is 100\n"
     ]
    }
   ],
   "source": [
    "#Ask the user to enter a number. Print out the square of the number, \n",
    "#Sample output is shown below.\n",
    "#Enter a number: 5 The square of 5 is 25.\n",
    "a=int(input('Enter a number'))\n",
    "b=a*a\n",
    "print(f\"The square of {a} is {b}\")\n"
   ]
  },
  {
   "cell_type": "code",
   "execution_count": 3,
   "id": "891f5c82-4a08-4ebd-88d8-a530ff114001",
   "metadata": {},
   "outputs": [
    {
     "name": "stdin",
     "output_type": "stream",
     "text": [
      "Enter the number :  5\n"
     ]
    },
    {
     "name": "stdout",
     "output_type": "stream",
     "text": [
      "10---15---20---25\n"
     ]
    }
   ],
   "source": [
    "#Ask the user to enter a number x. print out x, 2x, 3x, 4x, and 5x, each separated by three dashes, like below.\n",
    "\n",
    "#Enter a number: 7 7---14---21---28---35\n",
    "a=int(input('Enter the number : '))\n",
    "print(a*2,a*3,a*4,a*5,sep='---')\n",
    "\n"
   ]
  },
  {
   "cell_type": "code",
   "execution_count": 4,
   "id": "e256bc6f-dc46-435f-9458-4e7a51c2c24d",
   "metadata": {},
   "outputs": [
    {
     "name": "stdin",
     "output_type": "stream",
     "text": [
      "Enter weight in kilograms :  5\n"
     ]
    },
    {
     "name": "stdout",
     "output_type": "stream",
     "text": [
      "Weight in pounds is 11.0\n"
     ]
    }
   ],
   "source": [
    "#Write a program that asks the user for a weight in kilograms and converts it to pounds. There are 2.2 pounds in a kilogram.\n",
    "a=eval(input('Enter weight in kilograms : '))\n",
    "b=a*2.2\n",
    "print(f\"Weight in pounds is {b}\")"
   ]
  },
  {
   "cell_type": "code",
   "execution_count": 15,
   "id": "871baae6-2b08-4dca-b37e-e433dd30e7bf",
   "metadata": {},
   "outputs": [
    {
     "name": "stdin",
     "output_type": "stream",
     "text": [
      "Enter the value1 :  10\n",
      "Enter the value2 :  20\n",
      "Enter the value3 :  30\n"
     ]
    },
    {
     "name": "stdout",
     "output_type": "stream",
     "text": [
      "The total of 10 , 20 , 30 is 60 , the average of 10 , 20 , 30 is 20.0\n"
     ]
    }
   ],
   "source": [
    "# Write a program that asks the user to enter three numbers (use three separate input statements).Create variables called total and average that hold the sum and average of the three numbers and print out the values of total and average\n",
    "a=int(input('Enter the value1 : '))\n",
    "b=int(input('Enter the value2 : '))\n",
    "c=int(input('Enter the value3 : '))\n",
    "total=a+b+c\n",
    "average=(a+b+c)/3\n",
    "print(f\"The total of {a} , {b} , {c} is {total} , the average of {a} , {b} , {c} is {average}\")\n"
   ]
  },
  {
   "cell_type": "code",
   "execution_count": 6,
   "id": "afb83e5a-f882-49b5-b87e-db0897f9a076",
   "metadata": {},
   "outputs": [
    {
     "name": "stdin",
     "output_type": "stream",
     "text": [
      "Enter the price of the meal : 1000\n",
      "Enter the tip percentage : 10\n"
     ]
    },
    {
     "name": "stdout",
     "output_type": "stream",
     "text": [
      "The total bill amount is 1100.0\n"
     ]
    }
   ],
   "source": [
    "#A lot of cell phones have tip calculators. Write one. Ask the user for the price of the meal and the percent tip they want to leave. Then print both the tip amount and the total bill with the tip included.\n",
    "price_of_meal=int(input('Enter the price of the meal :'))\n",
    "percent_of_tip=int(input('Enter the tip percentage :'))\n",
    "tip_amount=price_of_meal*percent_of_tip/100\n",
    "total_bill=price_of_meal+tip_amount\n",
    "print(f\"The total bill amount is {total_bill}\")"
   ]
  },
  {
   "cell_type": "code",
   "execution_count": 7,
   "id": "d0d70f15-68d7-4373-923b-d2644f08d035",
   "metadata": {},
   "outputs": [
    {
     "name": "stdin",
     "output_type": "stream",
     "text": [
      "Enter the value1 :  20\n",
      "Enter the value2 :  10\n"
     ]
    },
    {
     "name": "stdout",
     "output_type": "stream",
     "text": [
      "the addition 0f 20 and 10 is 30 , the subtraction of 20 and 10 is 10 , the multiplication of 20 and 10 is 200 , the division of 20 and 10 is 2.0\n"
     ]
    }
   ],
   "source": [
    "#  wap ask the user enter the 2 numbers find the subtraction,addition, multiplication and division\n",
    "a=eval(input('Enter the value1 : '))\n",
    "b=eval(input('Enter the value2 : '))\n",
    "s=a-b\n",
    "p=a+b\n",
    "m=a*b\n",
    "d=a/b\n",
    "print(f\"the addition 0f {a} and {b} is {p} , the subtraction of {a} and {b} is {s} , the multiplication of {a} and {b} is {m} , the division of {a} and {b} is {d}\")\n",
    "       \n"
   ]
  },
  {
   "cell_type": "code",
   "execution_count": 9,
   "id": "7ef47209-b565-4344-b81f-16cf1eb64420",
   "metadata": {},
   "outputs": [
    {
     "name": "stdin",
     "output_type": "stream",
     "text": [
      "Enter the radius 5\n",
      "Enter the value of pi 3.14\n"
     ]
    },
    {
     "name": "stdout",
     "output_type": "stream",
     "text": [
      "The area of the circle is 78.5\n"
     ]
    }
   ],
   "source": [
    "# wap ask the user enter radius values and pi value  find the area of the circle\n",
    "r=int(input('Enter the radius'))\n",
    "p=eval(input('Enter the value of pi'))\n",
    "a=p*r*r\n",
    "print(\"The area of the circle is {}\".format(a))"
   ]
  },
  {
   "cell_type": "code",
   "execution_count": 10,
   "id": "adafd7b5-a12e-4aa7-85ac-4c1589aecf60",
   "metadata": {},
   "outputs": [
    {
     "name": "stdin",
     "output_type": "stream",
     "text": [
      "Enter the bill amount in dollars :  100\n",
      "Enter the how many rupees for one dollar :  80\n"
     ]
    },
    {
     "name": "stdout",
     "output_type": "stream",
     "text": [
      "The bill amount is 8000 rupees\n"
     ]
    }
   ],
   "source": [
    "# 8.  wap ask the user bill amount in dollars,   ask the user enter how much indian rupees for one dollar print the bill amount in rupees\n",
    "\n",
    "amount_in_dollars = int(input('Enter the bill amount in dollars : '))\n",
    "x=int(input('Enter the how many rupees for one dollar : ' ))\n",
    "bill_amount_in_rupees=amount_in_dollars*x\n",
    "print(f\"The bill amount is {bill_amount_in_rupees} rupees\")\n",
    "            "
   ]
  },
  {
   "cell_type": "code",
   "execution_count": 11,
   "id": "87937c50-db3f-45df-9f81-dc1e2b9cc2e6",
   "metadata": {},
   "outputs": [
    {
     "name": "stdin",
     "output_type": "stream",
     "text": [
      "Enter the base value 3\n",
      "Enter the height value 4\n"
     ]
    },
    {
     "name": "stdout",
     "output_type": "stream",
     "text": [
      "The area of the triangle is 6.0 \n"
     ]
    }
   ],
   "source": [
    "# wap ask the user enter base height calculate area of the triangle\n",
    "b=int(input('Enter the base value'))\n",
    "h=int(input('Enter the height value'))\n",
    "a=(1/2)*b*h\n",
    "print(f\"The area of the triangle is {a} \")\n"
   ]
  },
  {
   "cell_type": "code",
   "execution_count": 12,
   "id": "4fa3d7ae-fd80-41ec-9ee5-4b7132e1b1ba",
   "metadata": {},
   "outputs": [
    {
     "name": "stdin",
     "output_type": "stream",
     "text": [
      "Enter the length of the rectangle :  5\n",
      "Enter the breadth of the rectangle :  6\n"
     ]
    },
    {
     "name": "stdout",
     "output_type": "stream",
     "text": [
      "The area of the rectangle is 30\n"
     ]
    }
   ],
   "source": [
    "# 10.  wap ask the user enter length and breadth calculate area of the rectangle\n",
    "l=int(input(\"Enter the length of the rectangle : \"))\n",
    "b=int(input(\"Enter the breadth of the rectangle : \"))\n",
    "a=l*b\n",
    "print(f\"The area of the rectangle is {a}\")"
   ]
  },
  {
   "cell_type": "code",
   "execution_count": 4,
   "id": "5ff75bdc-fc14-4f7a-9ef1-95dc2763d3ee",
   "metadata": {},
   "outputs": [
    {
     "name": "stdout",
     "output_type": "stream",
     "text": [
      "Father: Hey Baby!\n",
      "Daughter: Hello Dady\n",
      "Father: I heard your exams are over, what about result\n",
      "Daughter: Yes dad! Results are out.\n",
      "Father: what is the percentage?\n",
      "Daughter: I will give my subject wise marks , you tell me the percentage\n",
      "Father : Okay!\n"
     ]
    },
    {
     "name": "stdin",
     "output_type": "stream",
     "text": [
      "First Language: 90\n",
      "Second language: 95\n",
      "Third language: 95\n",
      "Science: 95\n",
      "Maths: 95\n"
     ]
    },
    {
     "name": "stdout",
     "output_type": "stream",
     "text": [
      "Daughter: Dad Now tell me how much percentage I got\n",
      " Father: Tell me the max marks of each subject\n"
     ]
    },
    {
     "name": "stdin",
     "output_type": "stream",
     "text": [
      " 100\n"
     ]
    },
    {
     "name": "stdout",
     "output_type": "stream",
     "text": [
      "94.0\n"
     ]
    }
   ],
   "source": [
    "# 11. Let’s create a story between Father and daughter , You need to create a story by using print and input keywords\n",
    "# You need to develop a python code same like below steps\n",
    "#The goal of this code is to understand python is step by step process\n",
    "#Step-1: input(“ Father: Hey Baby!”)\n",
    "#Step-2: input(“Daughter: Hello Dady”)\n",
    "#Step-3: input(“Father: I heard your exams are over, what about result”)\n",
    "#Step-4: input(“Daughter: Yes dad! Results are out.”)\n",
    "#Step-5: input(“Father: what is the percentage?”)\n",
    "#Step-6: input(“Daughter: I will give my subject wise marks , you tell me the percentage”)\n",
    "#Step-7: input(“Father : Okay!)\n",
    "#Step-8: sub1=eval(input(“First Language:”))\n",
    "#Step-9: sub2=eval(input(“Second language:”))\n",
    "#Step-10: sub3=eval(input(“Third language:”))\n",
    "#Step-11: sub4=eval(input(“Science:”))\n",
    "#Step-12: sub5=eval(input(“Maths:”))\n",
    "#Step-13: Daughter: Dad Now tell me how much percentage I got\n",
    "#Step-14: Father: Tell me the max marks of each subject\n",
    "#Step-15: max_marks=eval(input(“Daughter:”)) give=100\n",
    "#Step-16: calculate the percentage of marks and print it\n",
    "print('Father: Hey Baby!')\n",
    "print('Daughter: Hello Dady')\n",
    "print('Father: I heard your exams are over, what about result')\n",
    "print('Daughter: Yes dad! Results are out.')\n",
    "print('Father: what is the percentage?')\n",
    "print('Daughter: I will give my subject wise marks , you tell me the percentage')\n",
    "print('Father : Okay!')\n",
    "sub1=eval(input('First Language:'))\n",
    "sub2=eval(input('Second language:'))\n",
    "sub3=eval(input('Third language:'))\n",
    "sub4=eval(input('Science:'))\n",
    "sub5=eval(input('Maths:'))\n",
    "print('Daughter: Dad Now tell me how much percentage I got')\n",
    "print(' Father: Tell me the max marks of each subject')\n",
    "max_marks=eval(input('')) \n",
    "percentage = ((sub1+sub2+sub3+sub4+sub5)/500)*100\n",
    "print(percentage)"
   ]
  },
  {
   "cell_type": "code",
   "execution_count": null,
   "id": "ab58718b-049a-4ed4-9183-b9f6c8edde5d",
   "metadata": {},
   "outputs": [],
   "source": []
  }
 ],
 "metadata": {
  "kernelspec": {
   "display_name": "Python 3 (ipykernel)",
   "language": "python",
   "name": "python3"
  },
  "language_info": {
   "codemirror_mode": {
    "name": "ipython",
    "version": 3
   },
   "file_extension": ".py",
   "mimetype": "text/x-python",
   "name": "python",
   "nbconvert_exporter": "python",
   "pygments_lexer": "ipython3",
   "version": "3.11.7"
  }
 },
 "nbformat": 4,
 "nbformat_minor": 5
}

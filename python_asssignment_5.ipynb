{
 "cells": [
  {
   "cell_type": "code",
   "execution_count": 1,
   "id": "9b73929f-ce31-47be-828d-7ee57d93d57f",
   "metadata": {},
   "outputs": [
    {
     "name": "stdin",
     "output_type": "stream",
     "text": [
      "Enter the number: 10\n",
      "Enter the number: 15\n",
      "Enter the number: 20\n"
     ]
    },
    {
     "name": "stdout",
     "output_type": "stream",
     "text": [
      "The average of 10 , 15 , 20 is 15.0\n"
     ]
    }
   ],
   "source": [
    "# wap ask the user enter 3 numbers calculate average\n",
    "def average():\n",
    "    num1=eval(input(\"Enter the number:\"))\n",
    "    num2=eval(input(\"Enter the number:\"))\n",
    "    num3=eval(input(\"Enter the number:\"))\n",
    "    avg=(num1+num2+num3)/3\n",
    "    print(f\"The average of {num1} , {num2} , {num3} is {avg}\")\n",
    "average()\n",
    "    "
   ]
  },
  {
   "cell_type": "code",
   "execution_count": 2,
   "id": "b452faa2-5348-4bce-9aed-751f94ba43f5",
   "metadata": {},
   "outputs": [
    {
     "name": "stdout",
     "output_type": "stream",
     "text": [
      "The average of 10 , 15 and 20 is 15.0\n"
     ]
    }
   ],
   "source": [
    "def average(num1,num2,num3):\n",
    "    avg=(num1+num2+num3)/3\n",
    "    print(f\"The average of {num1} , {num2} and {num3} is {avg}\")\n",
    "average(10,15,20)"
   ]
  },
  {
   "cell_type": "code",
   "execution_count": 3,
   "id": "855ecd1b-e53b-4e8c-8ca1-6f534444b507",
   "metadata": {},
   "outputs": [
    {
     "name": "stdin",
     "output_type": "stream",
     "text": [
      "Enter the radius 10\n",
      "Enter the value of pi 3.14\n"
     ]
    },
    {
     "name": "stdout",
     "output_type": "stream",
     "text": [
      "The area of the circle is 314.0\n"
     ]
    }
   ],
   "source": [
    "# wap ask the uer enter radius values find the area of the circle\n",
    "def area_of_circle():\n",
    "    r=eval(input(\"Enter the radius\"))\n",
    "    pi=eval(input(\"Enter the value of pi\"))\n",
    "    area=pi*r*r\n",
    "    print(f\"The area of the circle is {area}\")\n",
    "area_of_circle()"
   ]
  },
  {
   "cell_type": "code",
   "execution_count": 4,
   "id": "f9d6c713-53c0-4dd1-a3db-9969f51ada76",
   "metadata": {},
   "outputs": [
    {
     "name": "stdout",
     "output_type": "stream",
     "text": [
      "The area of the circle is 314.0\n"
     ]
    }
   ],
   "source": [
    "def area_of_circle(r,pi):\n",
    "    \n",
    "    area=pi*r*r\n",
    "    print(f\"The area of the circle is {area}\")\n",
    "area_of_circle(10,3.14)"
   ]
  },
  {
   "cell_type": "code",
   "execution_count": 8,
   "id": "4e1b1464-613a-4daf-8c85-9d88061bb1bc",
   "metadata": {},
   "outputs": [
    {
     "name": "stdin",
     "output_type": "stream",
     "text": [
      "Enter the bill amount: 1000\n",
      "Enter the tip percentage: 20\n"
     ]
    },
    {
     "name": "stdout",
     "output_type": "stream",
     "text": [
      "The total bill is 1200.0\n"
     ]
    }
   ],
   "source": [
    "# wap ask the user bill amount,\n",
    "#     ask the user how much tip you want pay in percentage\n",
    "#     calculate totalbill\n",
    "def bill_calculation():\n",
    "    bill_amount=eval(input(\"Enter the bill amount:\"))\n",
    "    tip_in_percentage=eval(input(\"Enter the tip percentage:\"))\n",
    "    tip_amount=bill_amount*(tip_in_percentage/100)\n",
    "    total_bill=tip_amount+bill_amount\n",
    "    print(f\"The total bill is {total_bill}\")\n",
    "bill_calculation()"
   ]
  },
  {
   "cell_type": "code",
   "execution_count": 11,
   "id": "01258919-beac-4a78-8754-c15b2d6af31b",
   "metadata": {},
   "outputs": [
    {
     "name": "stdout",
     "output_type": "stream",
     "text": [
      "The total bill is 1200.0\n"
     ]
    }
   ],
   "source": [
    "def bill_calculation(bill_amount,tip_in_percentage,):\n",
    "    \n",
    "    tip_amount=bill_amount*(tip_in_percentage/100)\n",
    "    total_bill=tip_amount+bill_amount\n",
    "    print(f\"The total bill is {total_bill}\")\n",
    "bill_calculation(1000,20)"
   ]
  },
  {
   "cell_type": "code",
   "execution_count": 13,
   "id": "a2c5aa72-a4f6-4f67-8aeb-5eb1052fde91",
   "metadata": {},
   "outputs": [
    {
     "name": "stdin",
     "output_type": "stream",
     "text": [
      "Enter the base value  5\n",
      "Enter the height value  4\n"
     ]
    },
    {
     "name": "stdout",
     "output_type": "stream",
     "text": [
      "The area of the triangle is 10.0 \n"
     ]
    }
   ],
   "source": [
    "#wap ask the user enter base height calculate area of the traingle\n",
    "def area_of_triangle():\n",
    "    b=eval(input(\"Enter the base value \"))\n",
    "    h=eval(input(\"Enter the height value \"))\n",
    "    area=1/2*b*h\n",
    "    print(f\"The area of the triangle is {area} \") \n",
    "area_of_triangle()"
   ]
  },
  {
   "cell_type": "code",
   "execution_count": 14,
   "id": "db65f13a-b8c5-4c0c-a33d-5d9a86a915f2",
   "metadata": {},
   "outputs": [
    {
     "name": "stdout",
     "output_type": "stream",
     "text": [
      "The area of the triangle is 10.0 \n"
     ]
    }
   ],
   "source": [
    "def area_of_triangle(b,h):\n",
    "   \n",
    "    area=1/2*b*h\n",
    "    print(f\"The area of the triangle is {area} \") \n",
    "area_of_triangle(4,5)"
   ]
  },
  {
   "cell_type": "code",
   "execution_count": 16,
   "id": "f4f2b1cf-bb9c-45dd-aa3c-40f4b3f4d18f",
   "metadata": {},
   "outputs": [
    {
     "name": "stdin",
     "output_type": "stream",
     "text": [
      "Enter the breadth value  5\n",
      "Enter the height value  5\n"
     ]
    },
    {
     "name": "stdout",
     "output_type": "stream",
     "text": [
      "The area of rectangle is 25 \n"
     ]
    }
   ],
   "source": [
    "#wap ask the user enter length and breadth calculate area of the rectangle\n",
    "def area_of_rectangle():\n",
    "    b=eval(input(\"Enter the breadth value \"))\n",
    "    h=eval(input(\"Enter the height value \"))\n",
    "    area=b*h\n",
    "    print(f\"The area of rectangle is {area} \")\n",
    "area_of_rectangle()"
   ]
  },
  {
   "cell_type": "code",
   "execution_count": 18,
   "id": "a0f02574-409c-4790-8166-bc9765be8096",
   "metadata": {},
   "outputs": [
    {
     "name": "stdout",
     "output_type": "stream",
     "text": [
      "The area of rectangle is 40 \n"
     ]
    }
   ],
   "source": [
    "def area_of_rectangle(h,b):\n",
    "    \n",
    "    area=b*h\n",
    "    print(f\"The area of rectangle is {area} \")\n",
    "area_of_rectangle(10,4)"
   ]
  },
  {
   "cell_type": "code",
   "execution_count": 22,
   "id": "e8e89edb-4272-49af-973f-9fc5c6ab8fe2",
   "metadata": {},
   "outputs": [
    {
     "name": "stdin",
     "output_type": "stream",
     "text": [
      "Enter the number: 79\n"
     ]
    },
    {
     "name": "stdout",
     "output_type": "stream",
     "text": [
      "The number is odd\n"
     ]
    }
   ],
   "source": [
    "## wap ask the user enter a number\n",
    "# find it is a even number or odd number\n",
    "def type_of_nmbr():\n",
    "    num=eval(input(\"Enter the number:\"))\n",
    "    if num%2==0:\n",
    "        print(\"The number is even\")\n",
    "    else:\n",
    "        print(\"The number is odd\")\n",
    "type_of_nmbr()"
   ]
  },
  {
   "cell_type": "code",
   "execution_count": 23,
   "id": "11e0ad48-3927-45d5-a12b-8d381838693b",
   "metadata": {},
   "outputs": [
    {
     "name": "stdout",
     "output_type": "stream",
     "text": [
      "The number is odd\n"
     ]
    }
   ],
   "source": [
    "def type_of_nmbr(num):\n",
    "    \n",
    "    if num%2==0:\n",
    "        print(\"The number is even\")\n",
    "    else:\n",
    "        print(\"The number is odd\")\n",
    "type_of_nmbr(65)"
   ]
  },
  {
   "cell_type": "code",
   "execution_count": 25,
   "id": "c854b6af-8b5c-4520-872c-fae1aca0a4ca",
   "metadata": {},
   "outputs": [
    {
     "name": "stdin",
     "output_type": "stream",
     "text": [
      "Enter the distance: 30\n",
      "Enter the charge 10\n"
     ]
    },
    {
     "name": "stdout",
     "output_type": "stream",
     "text": [
      "The total cost is 300\n"
     ]
    }
   ],
   "source": [
    "## wap ask the user enter the distance\n",
    "# if distance greater than 25km\n",
    "#      then enter the charge\n",
    "#      print the total cost\n",
    "#otherwise\n",
    "#      print free ride\n",
    "def price_calculation():\n",
    "    dist=eval(input(\"Enter the distance:\"))\n",
    "    if dist>25:\n",
    "        charge=eval(input('Enter the charge')) \n",
    "        total_cost=dist*charge\n",
    "        print(f\"The total cost is {total_cost}\")\n",
    "    else:\n",
    "        print(\"free ride\")\n",
    "price_calculation()"
   ]
  },
  {
   "cell_type": "code",
   "execution_count": 27,
   "id": "3fcc95f0-983e-4a79-b730-37d39360346e",
   "metadata": {},
   "outputs": [
    {
     "name": "stdout",
     "output_type": "stream",
     "text": [
      "The total cost is 300\n"
     ]
    }
   ],
   "source": [
    "def price_calculation(dist,charge):\n",
    "   \n",
    "    if dist>25:\n",
    "        \n",
    "        total_cost=dist*charge\n",
    "        print(f\"The total cost is {total_cost}\")\n",
    "    else:\n",
    "        print(\"free ride\")\n",
    "price_calculation(30,10)"
   ]
  },
  {
   "cell_type": "code",
   "execution_count": 39,
   "id": "dce6b81a-29bc-444d-a466-fedb0cd58b0c",
   "metadata": {},
   "outputs": [
    {
     "name": "stdout",
     "output_type": "stream",
     "text": [
      "free ride for 7 km\n"
     ]
    }
   ],
   "source": [
    "# Implement the above problem by taking a random input  between  1, 100\n",
    "import random\n",
    "def price_calculation():\n",
    "\n",
    "    dist=random.randint(1,100)\n",
    " \n",
    "    if dist>25:\n",
    "        charge=eval(input('Enter the charge')) \n",
    "        total_cost=dist*charge\n",
    "        print(f\"The total cost for {dist} is {total_cost}\")\n",
    "    else:\n",
    "        print(f\"free ride for {dist} km\")\n",
    "price_calculation()\n"
   ]
  },
  {
   "cell_type": "code",
   "execution_count": 40,
   "id": "ffc9f5d4-72c1-4a50-aaa4-9573cdb7afa1",
   "metadata": {},
   "outputs": [
    {
     "name": "stdout",
     "output_type": "stream",
     "text": [
      "The total cost for 60 is 600\n"
     ]
    }
   ],
   "source": [
    "import random\n",
    "def price_calculation(dist,charge):\n",
    "\n",
    "    \n",
    " \n",
    "    if dist>25:\n",
    "         \n",
    "        total_cost=dist*charge\n",
    "        print(f\"The total cost for {dist} is {total_cost}\")\n",
    "    else:\n",
    "        print(f\"free ride for {dist} km\")\n",
    "price_calculation(60,10)"
   ]
  },
  {
   "cell_type": "code",
   "execution_count": 42,
   "id": "137b85c1-66db-458a-b89d-1313247e700b",
   "metadata": {},
   "outputs": [
    {
     "name": "stdout",
     "output_type": "stream",
     "text": [
      "good news your charge is aplicable for only remaining of 25\n"
     ]
    },
    {
     "name": "stdin",
     "output_type": "stream",
     "text": [
      "Enter the charge 10\n"
     ]
    },
    {
     "name": "stdout",
     "output_type": "stream",
     "text": [
      "The total cost for 81 is 560\n"
     ]
    }
   ],
   "source": [
    "# wap ask the user enter the distance\n",
    "# cutoff distance enter 25\n",
    "# if distance greater than 25km\n",
    "#      print(\"good news your charge is aplicable for only remaining of 25\")\n",
    "#      chargeble distance= distance-cutoff\n",
    "#      then enter the charge\n",
    "#      print the total cost\n",
    "#otherwise\n",
    "#      print free ride# Implement the above problem by taking a random input  between  1, 100\n",
    "import random\n",
    "def price_calculation():\n",
    "\n",
    "    dist=random.randint(1,100)\n",
    "    cutoff_distance=25\n",
    "    if dist>25:\n",
    "        print(\"good news your charge is aplicable for only remaining of 25\")\n",
    "        chargable_dist=dist-cutoff_distance\n",
    "        charge=eval(input('Enter the charge')) \n",
    "        total_cost=chargable_dist*charge\n",
    "        print(f\"The total cost for {dist} is {total_cost}\")\n",
    "    else:\n",
    "        print(f\"free ride for {dist} km\")\n",
    "price_calculation()"
   ]
  },
  {
   "cell_type": "code",
   "execution_count": 43,
   "id": "61642213-5b3c-4980-beb4-78df2450bf99",
   "metadata": {},
   "outputs": [
    {
     "name": "stdout",
     "output_type": "stream",
     "text": [
      "good news your charge is aplicable for only remaining of 25\n",
      "The total cost for 81 is 560\n"
     ]
    }
   ],
   "source": [
    "import random\n",
    "def price_calculation(dist,charge):\n",
    "\n",
    "    \n",
    "    cutoff_distance=25\n",
    "    if dist>25:\n",
    "        print(\"good news your charge is aplicable for only remaining of 25\")\n",
    "        chargable_dist=dist-cutoff_distance\n",
    "        \n",
    "        total_cost=chargable_dist*charge\n",
    "        print(f\"The total cost for {dist} is {total_cost}\")\n",
    "    else:\n",
    "        print(f\"free ride for {dist} km\")\n",
    "price_calculation(81,10)"
   ]
  },
  {
   "cell_type": "code",
   "execution_count": 45,
   "id": "bc9417fc-a6ea-492e-a5fa-858e7de72daf",
   "metadata": {},
   "outputs": [
    {
     "name": "stdin",
     "output_type": "stream",
     "text": [
      "Enter the course data science\n",
      "Enter the institute naresh it\n"
     ]
    },
    {
     "name": "stdout",
     "output_type": "stream",
     "text": [
      "you are good\n"
     ]
    }
   ],
   "source": [
    "# wap ask the user enter the course\n",
    "# ask the user enter the Institute\n",
    "# if the course equal to data science and institute equal to naresh it\n",
    "#     then you are good\n",
    "# otherwise\n",
    "#     you are bad\n",
    "def problem():\n",
    "    course=input(\"Enter the course\")\n",
    "    institute=input(\"Enter the institute\")\n",
    "    if course=='data science' and institute=='naresh it':\n",
    "        print(\"you are good\")\n",
    "    else:\n",
    "        print(\"you are bad\")\n",
    "problem()"
   ]
  },
  {
   "cell_type": "code",
   "execution_count": 54,
   "id": "ac5a9813-278f-4c94-8a0e-d8c7f5156dab",
   "metadata": {},
   "outputs": [
    {
     "name": "stdout",
     "output_type": "stream",
     "text": [
      "you are good\n"
     ]
    }
   ],
   "source": [
    "def problem(course,institute):\n",
    "    \n",
    "    if course=='data science' and institute=='naresh it':\n",
    "        print(\"you are good\")\n",
    "    else:\n",
    "        print(\"you are bad\")\n",
    "problem('data science','naresh it')"
   ]
  },
  {
   "cell_type": "code",
   "execution_count": 58,
   "id": "67c67ddc-9ae0-4dcd-91d2-13ef981e7218",
   "metadata": {},
   "outputs": [
    {
     "name": "stdin",
     "output_type": "stream",
     "text": [
      "Enter the number 10\n"
     ]
    },
    {
     "name": "stdout",
     "output_type": "stream",
     "text": [
      "You lost\n"
     ]
    }
   ],
   "source": [
    "# wap ask the user enter a random number between 1 to 10, treat this as number1\n",
    "# ask the user enter another number from keyboard, treat this as number2\n",
    "# if number1 equal to number2\n",
    "#     print you won\n",
    "# otherwise\n",
    "#     print you lost\n",
    "import random\n",
    "def equal():\n",
    "    num1=random.randint(1,10)\n",
    "    num2=eval(input(\"Enter the number\"))\n",
    "    if num1==num2:\n",
    "        print(\"You won\")\n",
    "    else:\n",
    "        print(\"You lost\")\n",
    "equal()    \n"
   ]
  },
  {
   "cell_type": "code",
   "execution_count": 59,
   "id": "0b0dea6e-23de-41a0-8ae1-d723c62345ce",
   "metadata": {},
   "outputs": [
    {
     "name": "stdout",
     "output_type": "stream",
     "text": [
      "You lost\n"
     ]
    }
   ],
   "source": [
    "import random\n",
    "def equal(num2):\n",
    "    num1=random.randint(1,10)\n",
    "    \n",
    "    if num1==num2:\n",
    "        print(\"You won\")\n",
    "    else:\n",
    "        print(\"You lost\")\n",
    "equal(25)  "
   ]
  },
  {
   "cell_type": "code",
   "execution_count": 61,
   "id": "906d3b9e-abab-410b-bf01-2ca1a620f435",
   "metadata": {},
   "outputs": [
    {
     "name": "stdin",
     "output_type": "stream",
     "text": [
      "Enter number 3\n"
     ]
    },
    {
     "name": "stdout",
     "output_type": "stream",
     "text": [
      "three\n"
     ]
    }
   ],
   "source": [
    "# wap ask the user enter number\n",
    "# if number equal to 1 then print one\n",
    "# if number equal to 2 then print two\n",
    "# if number equal to 3 then print three\n",
    "# otherwise  print enter a valid number\n",
    "def number():\n",
    "    num=eval(input(\"Enter number\"))\n",
    "    if num==1:\n",
    "        print(\"one\")\n",
    "    elif num==2:\n",
    "        print(\"two\")\n",
    "    elif num==3:\n",
    "        print(\"three\")\n",
    "    else:\n",
    "        print(\"Enter a valif number\")\n",
    "number()"
   ]
  },
  {
   "cell_type": "code",
   "execution_count": 62,
   "id": "4adb9340-d6e9-447b-be45-96f88ca9f5b5",
   "metadata": {},
   "outputs": [
    {
     "name": "stdout",
     "output_type": "stream",
     "text": [
      "two\n"
     ]
    }
   ],
   "source": [
    "def number(num):\n",
    "    \n",
    "    if num==1:\n",
    "        print(\"one\")\n",
    "    elif num==2:\n",
    "        print(\"two\")\n",
    "    elif num==3:\n",
    "        print(\"three\")\n",
    "    else:\n",
    "        print(\"Enter a valif number\")\n",
    "number(2)"
   ]
  },
  {
   "cell_type": "code",
   "execution_count": 63,
   "id": "bb2c9cb7-772c-4e3b-9724-a23a28cac46b",
   "metadata": {},
   "outputs": [
    {
     "name": "stdin",
     "output_type": "stream",
     "text": [
      "Enter a number -3\n"
     ]
    },
    {
     "name": "stdout",
     "output_type": "stream",
     "text": [
      "Negative\n"
     ]
    }
   ],
   "source": [
    "# wap ask the user enter a number\n",
    "# if that number greater than zero print postive\n",
    "# if that number less than zero print negative\n",
    "# otherwise print zero\n",
    "def nature():\n",
    "    num=eval(input(\"Enter a number\"))\n",
    "    if num>0:\n",
    "        print(\"Positive\")\n",
    "    elif num<0:\n",
    "        print(\"Negative\")\n",
    "    else:\n",
    "        print(\"zero\")\n",
    "nature()"
   ]
  },
  {
   "cell_type": "code",
   "execution_count": 64,
   "id": "98d4c320-087e-4197-82fe-70e196a120fc",
   "metadata": {},
   "outputs": [
    {
     "name": "stdout",
     "output_type": "stream",
     "text": [
      "zero\n"
     ]
    }
   ],
   "source": [
    "def nature(num):\n",
    "  \n",
    "    if num>0:\n",
    "        print(\"Positive\")\n",
    "    elif num<0:\n",
    "        print(\"Negative\")\n",
    "    else:\n",
    "        print(\"zero\")\n",
    "nature(0)"
   ]
  },
  {
   "cell_type": "code",
   "execution_count": 66,
   "id": "de67fd98-507a-457f-88d8-f0e337a73c1e",
   "metadata": {},
   "outputs": [
    {
     "name": "stdin",
     "output_type": "stream",
     "text": [
      "Enter a number 69\n"
     ]
    },
    {
     "name": "stdout",
     "output_type": "stream",
     "text": [
      "C grade\n"
     ]
    }
   ],
   "source": [
    "# WAP ask the user enter the percentage of marks 0 to 100\n",
    "# if percentagw gretaer than 90  print A garde\n",
    "# if percentage between 75 to 90 print B garde\n",
    "# if percentage between 50 to 75 print C grade\n",
    "# if percentage between 35 to 50 print D grade\n",
    "# if percentage less than 35 print Fail\n",
    "def marks():\n",
    "    percentage=eval(input(\"Enter a number\"))\n",
    "    if percentage>=90:\n",
    "        print(\"A grade\")\n",
    "    elif percentage>=75:\n",
    "        print(\"B grade\")\n",
    "    elif percentage>=50:\n",
    "        print(\"C grade\")\n",
    "    elif percentage>=35:\n",
    "        print(\"D grade\")\n",
    "    else:\n",
    "        print(\"Fail\")\n",
    "marks()"
   ]
  },
  {
   "cell_type": "code",
   "execution_count": 67,
   "id": "002c1f3d-b884-420a-a332-28a9dfb2b12b",
   "metadata": {},
   "outputs": [
    {
     "name": "stdout",
     "output_type": "stream",
     "text": [
      "Fail\n"
     ]
    }
   ],
   "source": [
    "def marks(percentage):\n",
    "    \n",
    "    if percentage>=90:\n",
    "        print(\"A grade\")\n",
    "    elif percentage>=75:\n",
    "        print(\"B grade\")\n",
    "    elif percentage>=50:\n",
    "        print(\"C grade\")\n",
    "    elif percentage>=35:\n",
    "        print(\"D grade\")\n",
    "    else:\n",
    "        print(\"Fail\")\n",
    "marks(34)"
   ]
  },
  {
   "cell_type": "code",
   "execution_count": 69,
   "id": "d3d1101d-f798-4d52-9786-0464effd9de9",
   "metadata": {},
   "outputs": [
    {
     "name": "stdin",
     "output_type": "stream",
     "text": [
      "Enter the age 40\n"
     ]
    },
    {
     "name": "stdout",
     "output_type": "stream",
     "text": [
      "middle aged\n"
     ]
    }
   ],
   "source": [
    "# WAP ask the user enter the age\n",
    "# if the age greater tahn 100 print you are lucky\n",
    "# if the age gretaer than 75 print old age\n",
    "# if the age  between 50 to 75 print ss\n",
    "# if the age between  30 tp 50 print MA\n",
    "# if the age between  15 to 30 print young age\n",
    "# if the afe between less than 15 print kid\n",
    "def bomb():\n",
    "    age=eval(input(\"Enter the age\"))\n",
    "    if age>=100:\n",
    "        print(\"Congratulations you are lucky\")\n",
    "    elif age>=75:\n",
    "        print(\"old age\")\n",
    "    elif age>=50:\n",
    "        print(\"senior citisen\")\n",
    "    elif age>=30:\n",
    "        print(\"middle aged\")\n",
    "    elif age>=15:\n",
    "        print(\"young age\")\n",
    "    else:\n",
    "        print(\"kid\")\n",
    "bomb()"
   ]
  },
  {
   "cell_type": "code",
   "execution_count": 71,
   "id": "eec44234-c7af-448d-a05d-da4499d15f63",
   "metadata": {},
   "outputs": [
    {
     "name": "stdout",
     "output_type": "stream",
     "text": [
      "kid\n"
     ]
    }
   ],
   "source": [
    "def bomb(age):\n",
    "    \n",
    "    if age>=100:\n",
    "        print(\"Congratulations you are lucky\")\n",
    "    elif age>=75:\n",
    "        print(\"old age\")\n",
    "    elif age>=50:\n",
    "        print(\"senior citisen\")\n",
    "    elif age>=30:\n",
    "        print(\"middle aged\")\n",
    "    elif age>=15:\n",
    "        print(\"young age\")\n",
    "    else:\n",
    "        print(\"kid\")\n",
    "bomb(5)"
   ]
  },
  {
   "cell_type": "code",
   "execution_count": null,
   "id": "688e0067-edf0-4085-8512-297513e33756",
   "metadata": {},
   "outputs": [],
   "source": []
  }
 ],
 "metadata": {
  "kernelspec": {
   "display_name": "Python 3 (ipykernel)",
   "language": "python",
   "name": "python3"
  },
  "language_info": {
   "codemirror_mode": {
    "name": "ipython",
    "version": 3
   },
   "file_extension": ".py",
   "mimetype": "text/x-python",
   "name": "python",
   "nbconvert_exporter": "python",
   "pygments_lexer": "ipython3",
   "version": "3.11.7"
  }
 },
 "nbformat": 4,
 "nbformat_minor": 5
}

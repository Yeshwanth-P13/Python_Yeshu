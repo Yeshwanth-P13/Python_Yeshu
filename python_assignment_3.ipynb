{
 "cells": [
  {
   "cell_type": "code",
   "execution_count": 6,
   "id": "524a32d6-9730-4992-b502-e9d4da7fc4bf",
   "metadata": {},
   "outputs": [
    {
     "name": "stdin",
     "output_type": "stream",
     "text": [
      "Enter the basic salary: 25000\n"
     ]
    },
    {
     "name": "stdout",
     "output_type": "stream",
     "text": [
      "The dearness_allowance amount is 10000.0\n",
      "The rent allowance amount is 5000.0\n",
      "The gross salary is 40000.0\n"
     ]
    }
   ],
   "source": [
    "# Ramesh’s basic salary is input through the keyboard. His dearness allowance is 40% of basic salary, and house rent allowance is 20% of basic salary. Write a program to calculate his gross salary.\n",
    "\n",
    "(20/100)*450\n",
    "basic_salary=eval(input(\"Enter the basic salary:\"))\n",
    "dearness_allowance=(40/100)*basic_salary\n",
    "print(f\"The dearness_allowance amount is {dearness_allowance}\") \n",
    "rent_allowance=(20/100)*basic_salary\n",
    "print(f\"The rent allowance amount is {rent_allowance}\")\n",
    "gross_salary=basic_salary+dearness_allowance+rent_allowance\n",
    "print(f\"The gross salary is {gross_salary}\")"
   ]
  },
  {
   "cell_type": "code",
   "execution_count": 8,
   "id": "e03c2fb8-8506-46c5-8c4e-747aadeb002c",
   "metadata": {},
   "outputs": [
    {
     "name": "stdin",
     "output_type": "stream",
     "text": [
      "Enter the distance between the two cities in km: 47\n"
     ]
    },
    {
     "name": "stdout",
     "output_type": "stream",
     "text": [
      "The distance in meters is 47000 meters\n",
      "The distance in feet is 154199.48 feet\n",
      "The distance in inches is 1850393.713 inches\n",
      "The distance in centimeters is 4700000 centimeters\n"
     ]
    }
   ],
   "source": [
    "# The distance between two cities (in km.) is input through the keyboard. Write a program to convert and print this distance in meters, feet, inches and centimeters. \n",
    "distance=eval(input(\"Enter the distance between the two cities in km:\"))\n",
    "distance_in_meters=distance*1000\n",
    "print(f\"The distance in meters is {distance_in_meters} meters\")\n",
    "distance_in_feet=distance*3280.84\n",
    "print(f\"The distance in feet is {distance_in_feet} feet\")\n",
    "distance_in_inches=distance*39370.079\n",
    "print(f\"The distance in inches is {distance_in_inches} inches\" )\n",
    "distance_in_centimeters=distance*100000\n",
    "print(f\"The distance in centimeters is {distance_in_centimeters} centimeters\")\n"
   ]
  },
  {
   "cell_type": "code",
   "execution_count": 12,
   "id": "a9ce8f5a-ec67-40f2-86c8-7272faf4101d",
   "metadata": {},
   "outputs": [
    {
     "name": "stdin",
     "output_type": "stream",
     "text": [
      "Enter the marks for subject 1:  90\n",
      "Enter the marks for subject 2 :  85\n",
      "Enter the marks for subject 3 :  95\n",
      "Enter the marks for subject 4 :  90\n",
      "Enter the marks for subject 5 :  90\n",
      "Enter the max marks 500\n"
     ]
    },
    {
     "name": "stdout",
     "output_type": "stream",
     "text": [
      "The percentage of marks scored is 90.0 % \n"
     ]
    }
   ],
   "source": [
    "# If the marks obtained by a student in five different subjects are input through the keyboard, find out the aggregate marks and percentage marks obtained by the student. Assume that the maximum marks that can be obtained by a student in each subject is 100.\n",
    "sub1=eval(input(\"Enter the marks for subject 1: \"))\n",
    "sub2=eval(input(\"Enter the marks for subject 2 : \"))\n",
    "sub3=eval(input(\"Enter the marks for subject 3 : \"))\n",
    "sub4=eval(input(\"Enter the marks for subject 4 : \"))\n",
    "sub5=eval(input(\"Enter the marks for subject 5 : \"))\n",
    "aggregate_marks=sub1+sub2+sub3+sub4+sub5\n",
    "max_marks=eval(input(\"Enter the max marks\"))\n",
    "percentage=(aggregate_marks/max_marks)*100\n",
    "print(f\"The percentage of marks scored is {percentage} % \")"
   ]
  },
  {
   "cell_type": "code",
   "execution_count": 15,
   "id": "9905c5d2-0d55-48d6-8a06-7a08e2e47974",
   "metadata": {},
   "outputs": [
    {
     "name": "stdin",
     "output_type": "stream",
     "text": [
      "Enter the temperature in fahreheit: 90\n"
     ]
    },
    {
     "name": "stdout",
     "output_type": "stream",
     "text": [
      "The temperature in centigrade is 32.22222222222222 degree celsius\n"
     ]
    }
   ],
   "source": [
    "#Temperature of a city in Fahrenheit degrees is input through the keyboard. Write a program to convert this temperature into Centigrade degrees.  \n",
    "temperatur_in_fahrenheit=eval(input(\"Enter the temperature in fahreheit:\"))\n",
    "temperature_in_centigrade=5/9*(temperatur_in_fahrenheit-32)\n",
    "print(f\"The temperature in centigrade is {temperature_in_centigrade} degree celsius\")"
   ]
  },
  {
   "cell_type": "code",
   "execution_count": 20,
   "id": "b6ea7342-4adc-49b5-ab98-04fa83ef05fa",
   "metadata": {},
   "outputs": [
    {
     "name": "stdin",
     "output_type": "stream",
     "text": [
      "Enter the length of the rectangle: 5\n",
      "Enter the breadth of the rectangle: 4\n"
     ]
    },
    {
     "name": "stdout",
     "output_type": "stream",
     "text": [
      "The area of rectangle is 20 \n",
      "The perimeter of rectangle is 18\n"
     ]
    },
    {
     "name": "stdin",
     "output_type": "stream",
     "text": [
      "Enter the radius of the circle: 10\n",
      "Enter the value of pi 3.14\n"
     ]
    },
    {
     "name": "stdout",
     "output_type": "stream",
     "text": [
      "The area of circle is 314.0 \n",
      "The circumference of circle is 62.800000000000004\n"
     ]
    }
   ],
   "source": [
    "# The length & breadth of a rectangle and radius of a circle are input through the keyboard. Write a program to calculate the area & perimeter of the rectangle, and the area & circumference of the circle.\n",
    "l=eval(input(\"Enter the length of the rectangle:\"))\n",
    "b=eval(input(\"Enter the breadth of the rectangle:\"))\n",
    "area_of_rectangle=l*b\n",
    "print(f\"The area of rectangle is {area_of_rectangle} \")\n",
    "perimeter_of_rectangle=(l+b)*2\n",
    "print(f\"The perimeter of rectangle is {perimeter_of_rectangle}\")\n",
    "r=eval(input(\"Enter the radius of the circle:\"))\n",
    "pi=eval(input(\"Enter the value of pi\"))\n",
    "area_of_circle=pi*r*r\n",
    "\n",
    "print(f\"The area of circle is {area_of_circle} \")\n",
    "circumference_of_circle=2*pi*r\n",
    "print(f\"The circumference of circle is {circumference_of_circle}\")"
   ]
  },
  {
   "cell_type": "code",
   "execution_count": 24,
   "id": "5ef6e539-abbc-4b87-967c-093f2eabdcff",
   "metadata": {},
   "outputs": [
    {
     "name": "stdin",
     "output_type": "stream",
     "text": [
      "Enter a number: 7\n",
      "Enter a number: 9\n"
     ]
    },
    {
     "name": "stdout",
     "output_type": "stream",
     "text": [
      "The value of a after swapping is 9\n",
      "The value of b after swapping is 7\n"
     ]
    }
   ],
   "source": [
    "# Two numbers are input through the keyboard into two locations C and D. Write a program to interchange the contents of C and D.\n",
    "a=eval(input(\"Enter a number:\"))\n",
    "b=eval(input(\"Enter a number:\"))\n",
    "store=a\n",
    "a=b\n",
    "b=store\n",
    "print(f\"The value of a after swapping is {a}\")\n",
    "print(f\"The value of b after swapping is {b}\")"
   ]
  },
  {
   "cell_type": "code",
   "execution_count": 2,
   "id": "b0720184-4d2b-4b49-9442-7be8cc4458ca",
   "metadata": {},
   "outputs": [
    {
     "name": "stdin",
     "output_type": "stream",
     "text": [
      "Enter a five-digit number:  89756\n"
     ]
    },
    {
     "name": "stdout",
     "output_type": "stream",
     "text": [
      "The reverse of 89756 is 65798.\n"
     ]
    }
   ],
   "source": [
    "# If a five-digit number is input through the keyboard, write a program to reverse the number.  \n",
    "def reverse_number():\n",
    "    try:\n",
    "        num_str = input(\"Enter a five-digit number: \")\n",
    "        \n",
    "        # Check if input is exactly 5 characters (digits)\n",
    "        if len(num_str) != 5 or not num_str.isdigit():\n",
    "            print(\"Please enter a valid five-digit number.\")\n",
    "            return\n",
    "        \n",
    "        # Reverse the string representation of the number\n",
    "        reversed_num_str = num_str[::-1]\n",
    "        \n",
    "        # Convert the reversed string back to integer\n",
    "        reversed_num = int(reversed_num_str)\n",
    "        \n",
    "        print(f\"The reverse of {num_str} is {reversed_num}.\")\n",
    "    \n",
    "    except ValueError:\n",
    "        print(\"Invalid input. Please enter a valid integer.\")\n",
    "\n",
    "reverse_number()\n",
    "\n",
    "\n",
    " \n"
   ]
  },
  {
   "cell_type": "code",
   "execution_count": 3,
   "id": "7c72e5ee-0c95-4877-a48c-4cda8f541ba0",
   "metadata": {},
   "outputs": [
    {
     "name": "stdin",
     "output_type": "stream",
     "text": [
      "Enter a four-digit number:  1234\n"
     ]
    },
    {
     "name": "stdout",
     "output_type": "stream",
     "text": [
      "The sum of the first and last digit of 1234 is 5.\n"
     ]
    }
   ],
   "source": [
    "# 8. If a four-digit number is input through the keyboard, write a program to obtain the sum of the first and last digit of this number.\n",
    "try:\n",
    "    num_str = input(\"Enter a four-digit number: \")\n",
    "    \n",
    "    # Check if input is exactly four characters (digits)\n",
    "    if len(num_str) != 4 or not num_str.isdigit():\n",
    "        print(\"Please enter a valid four-digit number.\")\n",
    "    else:\n",
    "        # Extract the first digit (converted to integer)\n",
    "        first_digit = int(num_str[0])\n",
    "        \n",
    "        # Extract the last digit (converted to integer)\n",
    "        last_digit = int(num_str[-1])\n",
    "        \n",
    "        # Calculate the sum of the first and last digit\n",
    "        sum_digits = first_digit + last_digit\n",
    "        \n",
    "        print(f\"The sum of the first and last digit of {num_str} is {sum_digits}.\")\n",
    "    \n",
    "except ValueError:\n",
    "    print(\"Invalid input. Please enter a valid integer.\")\n"
   ]
  },
  {
   "cell_type": "code",
   "execution_count": 6,
   "id": "25289858-f5db-4c4d-a0a8-9d6c1dab62d8",
   "metadata": {},
   "outputs": [
    {
     "name": "stdout",
     "output_type": "stream",
     "text": [
      "Total number of illiterate men: 13600.0\n",
      "Total number of illiterate women: 28000.0\n"
     ]
    }
   ],
   "source": [
    "# In a town, the percentage of men is 52. The percentage of total literacy is 48. If total percentage of literate men is 35 of the total population, write a program to find the total number of illiterate men and women if the population of the town is 80,000.\n",
    "total_population = 80000\n",
    "percentage_men = 52\n",
    "percentage_literacy = 48\n",
    "percentage_literate_men = 35\n",
    "\n",
    "# Calculate number of men and women\n",
    "total_men = (percentage_men / 100) * total_population\n",
    "total_women = ((100 - percentage_men) / 100) * total_population\n",
    "\n",
    "# Calculate number of literate people\n",
    "total_literate_people = (percentage_literacy / 100) * total_population\n",
    "\n",
    "# Calculate number of literate men\n",
    "literate_men = (percentage_literate_men / 100) * total_population\n",
    "\n",
    "# Calculate number of illiterate men\n",
    "illiterate_men = total_men - literate_men\n",
    "\n",
    "# Calculate number of illiterate women\n",
    "illiterate_women = total_women - (total_literate_people - literate_men)\n",
    "\n",
    "# Print the results\n",
    "print(f\"Total number of illiterate men: {illiterate_men}\")\n",
    "print(f\"Total number of illiterate women: {illiterate_women}\")\n"
   ]
  },
  {
   "cell_type": "code",
   "execution_count": 9,
   "id": "65508c8d-fe0c-4ff9-afb5-b8a5bbe204be",
   "metadata": {},
   "outputs": [
    {
     "name": "stdin",
     "output_type": "stream",
     "text": [
      "Enter the amount to be withdrawn in hundreds:  10\n"
     ]
    },
    {
     "name": "stdout",
     "output_type": "stream",
     "text": [
      "Number of 100 rupee notes: 10\n",
      "Number of 50 rupee notes: 0\n",
      "Number of 10 rupee notes: 0\n"
     ]
    }
   ],
   "source": [
    "#  A cashier has currency notes of denominations 10, 50 and 100. If the amount to be withdrawn is input through the keyboard in hundreds, find the total number of currency notes of each denomination the Input the amount to be withdrawn in hundreds\n",
    "try:    \n",
    "    amount_in_hundreds = int(input(\"Enter the amount to be withdrawn in hundreds: \"))\n",
    "    \n",
    "    # Convert the amount from hundreds to actual rupees\n",
    "    amount = amount_in_hundreds * 100\n",
    "    \n",
    "    # Initialize counts for each denomination\n",
    "    count_100 = 0\n",
    "    count_50 = 0\n",
    "    count_10 = 0\n",
    "    \n",
    "    # Calculate number of 100 rupee notes\n",
    "    count_100 = amount // 100\n",
    "    amount = amount % 100\n",
    "    \n",
    "    # Calculate number of 50 rupee notes\n",
    "    count_50 = amount // 50\n",
    "    amount = amount % 50\n",
    "    \n",
    "    # Calculate number of 10 rupee notes\n",
    "    count_10 = amount // 10\n",
    "    amount = amount % 10\n",
    "    \n",
    "    # Print the results\n",
    "    print(f\"Number of 100 rupee notes: {count_100}\")\n",
    "    print(f\"Number of 50 rupee notes: {count_50}\")\n",
    "    print(f\"Number of 10 rupee notes: {count_10}\")\n",
    "\n",
    "except ValueError:\n",
    "    print(\"Invalid input. Please enter a valid integer.\")\n"
   ]
  },
  {
   "cell_type": "code",
   "execution_count": null,
   "id": "287046af-5d71-4f21-8987-edd2087c8539",
   "metadata": {},
   "outputs": [],
   "source": []
  }
 ],
 "metadata": {
  "kernelspec": {
   "display_name": "Python 3 (ipykernel)",
   "language": "python",
   "name": "python3"
  },
  "language_info": {
   "codemirror_mode": {
    "name": "ipython",
    "version": 3
   },
   "file_extension": ".py",
   "mimetype": "text/x-python",
   "name": "python",
   "nbconvert_exporter": "python",
   "pygments_lexer": "ipython3",
   "version": "3.11.7"
  }
 },
 "nbformat": 4,
 "nbformat_minor": 5
}
